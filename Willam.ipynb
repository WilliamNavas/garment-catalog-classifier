{
 "cells": [
  {
   "cell_type": "code",
   "execution_count": 9,
   "id": "16af7b31",
   "metadata": {},
   "outputs": [],
   "source": [
    "import pandas as pd\n",
    "import numpy as np\n",
    "import keras\n",
    "from keras.datasets import fashion_mnist\n",
    "from keras.models import Sequential\n",
    "from keras.layers import Dense, Dropout, Flatten\n",
    "from keras.layers import Conv2D, MaxPooling2D\n",
    "from keras import backend as K"
   ]
  },
  {
   "cell_type": "code",
   "execution_count": 10,
   "id": "135206b1",
   "metadata": {},
   "outputs": [
    {
     "data": {
      "text/html": [
       "<div>\n",
       "<style scoped>\n",
       "    .dataframe tbody tr th:only-of-type {\n",
       "        vertical-align: middle;\n",
       "    }\n",
       "\n",
       "    .dataframe tbody tr th {\n",
       "        vertical-align: top;\n",
       "    }\n",
       "\n",
       "    .dataframe thead th {\n",
       "        text-align: right;\n",
       "    }\n",
       "</style>\n",
       "<table border=\"1\" class=\"dataframe\">\n",
       "  <thead>\n",
       "    <tr style=\"text-align: right;\">\n",
       "      <th></th>\n",
       "      <th>0</th>\n",
       "    </tr>\n",
       "  </thead>\n",
       "  <tbody>\n",
       "    <tr>\n",
       "      <th>0</th>\n",
       "      <td>9</td>\n",
       "    </tr>\n",
       "    <tr>\n",
       "      <th>1</th>\n",
       "      <td>0</td>\n",
       "    </tr>\n",
       "    <tr>\n",
       "      <th>2</th>\n",
       "      <td>0</td>\n",
       "    </tr>\n",
       "    <tr>\n",
       "      <th>3</th>\n",
       "      <td>3</td>\n",
       "    </tr>\n",
       "    <tr>\n",
       "      <th>4</th>\n",
       "      <td>0</td>\n",
       "    </tr>\n",
       "  </tbody>\n",
       "</table>\n",
       "</div>"
      ],
      "text/plain": [
       "   0\n",
       "0  9\n",
       "1  0\n",
       "2  0\n",
       "3  3\n",
       "4  0"
      ]
     },
     "execution_count": 10,
     "metadata": {},
     "output_type": "execute_result"
    }
   ],
   "source": [
    "#Cargamos los datos de Fashion-MNIST\n",
    "\n",
    "(x_train, y_train), (x_test, y_test) = fashion_mnist.load_data()\n",
    "conver= pd.DataFrame(y_train)\n",
    "conver.head(5)\n",
    "\n"
   ]
  },
  {
   "cell_type": "code",
   "execution_count": 11,
   "id": "46aa6cc9",
   "metadata": {},
   "outputs": [],
   "source": [
    "# catalogo de prendas \n",
    "tipoprenda = {\n",
    "    0: 'T-shirt/top',\n",
    "    1: 'Trouser',\n",
    "    2: 'Pullover',\n",
    "    3: 'Dress',\n",
    "    4: 'Coat',\n",
    "    5: 'Sandal',\n",
    "    6: 'Shirt',\n",
    "    7: 'Sneaker',\n",
    "    8: 'Bag',\n",
    "    9: 'Ankle boot'\n",
    "}\n"
   ]
  },
  {
   "cell_type": "code",
   "execution_count": 12,
   "id": "3b37ca57",
   "metadata": {},
   "outputs": [],
   "source": [
    "#convertimos los datos en el formato correcto\n",
    "img_rows, img_cols = 28, 28\n",
    "if K.image_data_format()=='channels_first':\n",
    "    x_train = x_train.reshape(x_train.shape[0], 1, img_rows, img_cols)\n",
    "    x_test = x_test.reshape(x_test.shape[0], 1, img_rows, img_cols)\n",
    "    input_shape=(1, img_rows, img_cols)\n",
    "    \n",
    "else:\n",
    "    x_train = x_train.reshape(x_train.shape[0], img_rows, img_cols,1)\n",
    "    x_test = x_test.reshape(x_test.shape[0], img_rows, img_cols,1)\n",
    "    input_shape = (img_rows, img_cols,1)"
   ]
  },
  {
   "cell_type": "code",
   "execution_count": 13,
   "id": "74df776e",
   "metadata": {},
   "outputs": [],
   "source": [
    "#convertimos los datos en el formato float32 y normalizamos entre 0 y 1\n",
    "x_train = x_train.astype ('float32')\n",
    "x_test=x_test.astype('float32')\n",
    "x_train/=255\n",
    "x_test/=255"
   ]
  },
  {
   "cell_type": "code",
   "execution_count": 14,
   "id": "4b65b916",
   "metadata": {},
   "outputs": [],
   "source": [
    "#convertimos las etiquetas en formato one-bot\n",
    "num_classes=10\n",
    "y_train= keras.utils.to_categorical(y_train, num_classes)\n",
    "y_test= keras.utils.to_categorical(y_test, num_classes)"
   ]
  },
  {
   "cell_type": "code",
   "execution_count": 15,
   "id": "c8d0109d",
   "metadata": {},
   "outputs": [],
   "source": [
    "#Definimos el modelado de la prediccion \n",
    "model=Sequential()\n",
    "model.add(Conv2D(32, kernel_size=(3,3),\n",
    "                activation = 'relu',\n",
    "                input_shape=input_shape))\n",
    "model.add(Conv2D(64, (3,3), activation='relu'))\n",
    "model.add(MaxPooling2D(pool_size=(2,2)))\n",
    "model.add(Dropout(0.25))\n",
    "model.add(Flatten())\n",
    "model.add(Dense(128, activation='relu'))\n",
    "model.add(Dropout(0.5))\n",
    "model.add(Dense(num_classes, activation='softmax'))"
   ]
  },
  {
   "cell_type": "code",
   "execution_count": 16,
   "id": "5d0f7a4b",
   "metadata": {},
   "outputs": [],
   "source": [
    "#Compilacion del modelo\n",
    "model.compile(loss=keras.losses.categorical_crossentropy,\n",
    "             optimizer=keras.optimizers.Adadelta(),\n",
    "             metrics=['accuracy'])"
   ]
  },
  {
   "cell_type": "code",
   "execution_count": 17,
   "id": "b12b217d",
   "metadata": {},
   "outputs": [
    {
     "name": "stdout",
     "output_type": "stream",
     "text": [
      "Epoch 1/10\n",
      "844/844 [==============================] - 96s 110ms/step - loss: 2.2088 - accuracy: 0.2050 - val_loss: 2.0752 - val_accuracy: 0.4703\n",
      "Epoch 2/10\n",
      "844/844 [==============================] - 86s 102ms/step - loss: 1.9969 - accuracy: 0.3740 - val_loss: 1.8189 - val_accuracy: 0.5812\n",
      "Epoch 3/10\n",
      "844/844 [==============================] - 88s 104ms/step - loss: 1.7706 - accuracy: 0.4517 - val_loss: 1.5637 - val_accuracy: 0.6432\n",
      "Epoch 4/10\n",
      "844/844 [==============================] - 87s 103ms/step - loss: 1.5726 - accuracy: 0.4950 - val_loss: 1.3569 - val_accuracy: 0.6567\n",
      "Epoch 5/10\n",
      "844/844 [==============================] - 93s 110ms/step - loss: 1.4272 - accuracy: 0.5275 - val_loss: 1.2109 - val_accuracy: 0.6607\n",
      "Epoch 6/10\n",
      "844/844 [==============================] - 86s 102ms/step - loss: 1.3276 - accuracy: 0.5466 - val_loss: 1.1065 - val_accuracy: 0.6650\n",
      "Epoch 7/10\n",
      "844/844 [==============================] - 86s 101ms/step - loss: 1.2478 - accuracy: 0.5664 - val_loss: 1.0276 - val_accuracy: 0.6717\n",
      "Epoch 8/10\n",
      "844/844 [==============================] - 88s 104ms/step - loss: 1.1858 - accuracy: 0.5877 - val_loss: 0.9679 - val_accuracy: 0.6803\n",
      "Epoch 9/10\n",
      "844/844 [==============================] - 88s 104ms/step - loss: 1.1410 - accuracy: 0.6001 - val_loss: 0.9201 - val_accuracy: 0.6960\n",
      "Epoch 10/10\n",
      "844/844 [==============================] - 86s 102ms/step - loss: 1.0939 - accuracy: 0.6178 - val_loss: 0.8813 - val_accuracy: 0.7073\n"
     ]
    },
    {
     "data": {
      "text/plain": [
       "<keras.callbacks.History at 0x18cc064c8e0>"
      ]
     },
     "execution_count": 17,
     "metadata": {},
     "output_type": "execute_result"
    }
   ],
   "source": [
    "#Entrenar el modelo\n",
    "model.fit(x_train, y_train, batch_size=64, epochs=10, validation_split=0.1)"
   ]
  },
  {
   "cell_type": "code",
   "execution_count": 18,
   "id": "6e6e6b1e",
   "metadata": {},
   "outputs": [
    {
     "name": "stdout",
     "output_type": "stream",
     "text": [
      "313/313 [==============================] - 4s 13ms/step - loss: 0.9161 - accuracy: 0.6890\n",
      "Test accuracy: 0.6890000104904175\n"
     ]
    }
   ],
   "source": [
    "# Evaluar el modelo en el conjunto de prueba\n",
    "test_loss, test_acc = model.evaluate(x_test, y_test)\n",
    "print(\"Test accuracy:\", test_acc)"
   ]
  },
  {
   "cell_type": "code",
   "execution_count": 19,
   "id": "72ccbc42",
   "metadata": {},
   "outputs": [
    {
     "name": "stdout",
     "output_type": "stream",
     "text": [
      "313/313 [==============================] - 6s 14ms/step\n"
     ]
    }
   ],
   "source": [
    "# predicciones \n",
    "predictions = model.predict(x_test)"
   ]
  },
  {
   "cell_type": "code",
   "execution_count": 43,
   "id": "34f5c340",
   "metadata": {},
   "outputs": [
    {
     "data": {
      "image/png": "[encoded data removed]",
      "text/plain": [
       "<Figure size 720x720 with 1 Axes>"
      ]
     },
     "metadata": {},
     "output_type": "display_data"
    },
    {
     "data": {
      "image/png": "[encoded data removed]",
      "text/plain": [
       "<Figure size 720x720 with 1 Axes>"
      ]
     },
     "metadata": {},
     "output_type": "display_data"
    },
    {
     "data": {
      "image/png": "[encoded data removed]",
      "text/plain": [
       "<Figure size 720x720 with 1 Axes>"
      ]
     },
     "metadata": {},
     "output_type": "display_data"
    },
    {
     "data": {
      "image/png": "[encoded data removed]",
      "text/plain": [
       "<Figure size 720x720 with 1 Axes>"
      ]
     },
     "metadata": {},
     "output_type": "display_data"
    },
    {
     "data": {
      "image/png": "[encoded data removed]",
      "text/plain": [
       "<Figure size 720x720 with 1 Axes>"
      ]
     },
     "metadata": {},
     "output_type": "display_data"
    },
    {
     "data": {
      "image/png": "[encoded data removed]",
      "text/plain": [
       "<Figure size 720x720 with 1 Axes>"
      ]
     },
     "metadata": {},
     "output_type": "display_data"
    },
    {
     "data": {
      "image/png": "[encoded data removed]",
      "text/plain": [
       "<Figure size 720x720 with 1 Axes>"
      ]
     },
     "metadata": {},
     "output_type": "display_data"
    },
    {
     "data": {
      "image/png": "[encoded data removed]",
      "text/plain": [
       "<Figure size 720x720 with 1 Axes>"
      ]
     },
     "metadata": {},
     "output_type": "display_data"
    }
   ],
   "source": [
    "# clasificacion de prendas predichas y prendas reales y visualizacion de las prendas que tuvieron error\n",
    "    import matplotlib.pyplot as plt\n",
    "n=0\n",
    "for i in range(25):\n",
    "    predicted_label = np.argmax(predictions[i])\n",
    "    true_label = np.argmax( y_test[i])\n",
    "    if true_label != predicted_label:\n",
    "        plt.figure(figsize=(10,10))\n",
    "        n=n+1\n",
    "        plt.subplot(5,5,n)\n",
    "        plt.grid(False)\n",
    "        plt.xticks([])\n",
    "        plt.yticks([])\n",
    "        plt.title(f\"prenpred: {tipoprenda.get(predicted_label)} prenreal: {tipoprenda.get(true_label)} \")\n",
    "        plt.imshow(x_test[i], cmap=plt.cm.binary)\n",
    "        plt.tight_layout()\n",
    "        plt.show()\n",
    "\n"
   ]
  }
 ],
 "metadata": {
  "kernelspec": {
   "display_name": "Python 3 (ipykernel)",
   "language": "python",
   "name": "python3"
  },
  "language_info": {
   "codemirror_mode": {
    "name": "ipython",
    "version": 3
   },
   "file_extension": ".py",
   "mimetype": "text/x-python",
   "name": "python",
   "nbconvert_exporter": "python",
   "pygments_lexer": "ipython3",
   "version": "3.9.7"
  }
 },
 "nbformat": 4,
 "nbformat_minor": 5
}
